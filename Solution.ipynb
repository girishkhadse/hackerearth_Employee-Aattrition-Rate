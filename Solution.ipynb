{
 "cells": [
  {
   "cell_type": "code",
   "execution_count": 1,
   "metadata": {
    "colab": {
     "base_uri": "https://localhost:8080/",
     "height": 72
    },
    "colab_type": "code",
    "id": "Z6V4mMz9EZsh",
    "outputId": "22ccfca8-bcea-4fb0-8594-aa4ed972e133"
   },
   "outputs": [
    {
     "name": "stderr",
     "output_type": "stream",
     "text": [
      "/usr/local/lib/python3.6/dist-packages/statsmodels/tools/_testing.py:19: FutureWarning: pandas.util.testing is deprecated. Use the functions in the public API at pandas.testing instead.\n",
      "  import pandas.util.testing as tm\n"
     ]
    }
   ],
   "source": [
    "import numpy as np\n",
    "import matplotlib.pyplot as plt\n",
    "import pandas as pd\n",
    "import seaborn as sns"
   ]
  },
  {
   "cell_type": "code",
   "execution_count": 2,
   "metadata": {
    "colab": {},
    "colab_type": "code",
    "id": "E063vmk7EZs5"
   },
   "outputs": [],
   "source": [
    "train=pd.read_csv('Train.csv')\n",
    "test=pd.read_csv('Test.csv')"
   ]
  },
  {
   "cell_type": "code",
   "execution_count": 3,
   "metadata": {
    "colab": {
     "base_uri": "https://localhost:8080/",
     "height": 555
    },
    "colab_type": "code",
    "id": "vBRJuePEEZtD",
    "outputId": "b3e2691e-e49a-4254-a066-121c64c078e5"
   },
   "outputs": [
    {
     "name": "stdout",
     "output_type": "stream",
     "text": [
      "<class 'pandas.core.frame.DataFrame'>\n",
      "RangeIndex: 7000 entries, 0 to 6999\n",
      "Data columns (total 24 columns):\n",
      " #   Column                     Non-Null Count  Dtype  \n",
      "---  ------                     --------------  -----  \n",
      " 0   Employee_ID                7000 non-null   object \n",
      " 1   Gender                     7000 non-null   object \n",
      " 2   Age                        6588 non-null   float64\n",
      " 3   Education_Level            7000 non-null   int64  \n",
      " 4   Relationship_Status        7000 non-null   object \n",
      " 5   Hometown                   7000 non-null   object \n",
      " 6   Unit                       7000 non-null   object \n",
      " 7   Decision_skill_possess     7000 non-null   object \n",
      " 8   Time_of_service            6856 non-null   float64\n",
      " 9   Time_since_promotion       7000 non-null   int64  \n",
      " 10  growth_rate                7000 non-null   int64  \n",
      " 11  Travel_Rate                7000 non-null   int64  \n",
      " 12  Post_Level                 7000 non-null   int64  \n",
      " 13  Pay_Scale                  6991 non-null   float64\n",
      " 14  Compensation_and_Benefits  7000 non-null   object \n",
      " 15  Work_Life_balance          6989 non-null   float64\n",
      " 16  VAR1                       7000 non-null   int64  \n",
      " 17  VAR2                       6423 non-null   float64\n",
      " 18  VAR3                       7000 non-null   float64\n",
      " 19  VAR4                       6344 non-null   float64\n",
      " 20  VAR5                       7000 non-null   int64  \n",
      " 21  VAR6                       7000 non-null   int64  \n",
      " 22  VAR7                       7000 non-null   int64  \n",
      " 23  Attrition_rate             7000 non-null   float64\n",
      "dtypes: float64(8), int64(9), object(7)\n",
      "memory usage: 1.3+ MB\n"
     ]
    }
   ],
   "source": [
    "train.info()"
   ]
  },
  {
   "cell_type": "code",
   "execution_count": 4,
   "metadata": {
    "colab": {
     "base_uri": "https://localhost:8080/",
     "height": 257
    },
    "colab_type": "code",
    "id": "qekJFAH6EZtQ",
    "outputId": "bc9dfcde-1615-4ea4-c146-abab23e04e4b"
   },
   "outputs": [
    {
     "data": {
      "text/html": [
       "<div>\n",
       "<style scoped>\n",
       "    .dataframe tbody tr th:only-of-type {\n",
       "        vertical-align: middle;\n",
       "    }\n",
       "\n",
       "    .dataframe tbody tr th {\n",
       "        vertical-align: top;\n",
       "    }\n",
       "\n",
       "    .dataframe thead th {\n",
       "        text-align: right;\n",
       "    }\n",
       "</style>\n",
       "<table border=\"1\" class=\"dataframe\">\n",
       "  <thead>\n",
       "    <tr style=\"text-align: right;\">\n",
       "      <th></th>\n",
       "      <th>Employee_ID</th>\n",
       "      <th>Gender</th>\n",
       "      <th>Age</th>\n",
       "      <th>Education_Level</th>\n",
       "      <th>Relationship_Status</th>\n",
       "      <th>Hometown</th>\n",
       "      <th>Unit</th>\n",
       "      <th>Decision_skill_possess</th>\n",
       "      <th>Time_of_service</th>\n",
       "      <th>Time_since_promotion</th>\n",
       "      <th>growth_rate</th>\n",
       "      <th>Travel_Rate</th>\n",
       "      <th>Post_Level</th>\n",
       "      <th>Pay_Scale</th>\n",
       "      <th>Compensation_and_Benefits</th>\n",
       "      <th>Work_Life_balance</th>\n",
       "      <th>VAR1</th>\n",
       "      <th>VAR2</th>\n",
       "      <th>VAR3</th>\n",
       "      <th>VAR4</th>\n",
       "      <th>VAR5</th>\n",
       "      <th>VAR6</th>\n",
       "      <th>VAR7</th>\n",
       "      <th>Attrition_rate</th>\n",
       "    </tr>\n",
       "  </thead>\n",
       "  <tbody>\n",
       "    <tr>\n",
       "      <th>0</th>\n",
       "      <td>EID_23371</td>\n",
       "      <td>F</td>\n",
       "      <td>42.0</td>\n",
       "      <td>4</td>\n",
       "      <td>Married</td>\n",
       "      <td>Franklin</td>\n",
       "      <td>IT</td>\n",
       "      <td>Conceptual</td>\n",
       "      <td>4.0</td>\n",
       "      <td>4</td>\n",
       "      <td>33</td>\n",
       "      <td>1</td>\n",
       "      <td>1</td>\n",
       "      <td>7.0</td>\n",
       "      <td>type2</td>\n",
       "      <td>3.0</td>\n",
       "      <td>4</td>\n",
       "      <td>0.7516</td>\n",
       "      <td>1.8688</td>\n",
       "      <td>2.0</td>\n",
       "      <td>4</td>\n",
       "      <td>5</td>\n",
       "      <td>3</td>\n",
       "      <td>0.1841</td>\n",
       "    </tr>\n",
       "    <tr>\n",
       "      <th>1</th>\n",
       "      <td>EID_18000</td>\n",
       "      <td>M</td>\n",
       "      <td>24.0</td>\n",
       "      <td>3</td>\n",
       "      <td>Single</td>\n",
       "      <td>Springfield</td>\n",
       "      <td>Logistics</td>\n",
       "      <td>Analytical</td>\n",
       "      <td>5.0</td>\n",
       "      <td>4</td>\n",
       "      <td>36</td>\n",
       "      <td>0</td>\n",
       "      <td>3</td>\n",
       "      <td>6.0</td>\n",
       "      <td>type2</td>\n",
       "      <td>4.0</td>\n",
       "      <td>3</td>\n",
       "      <td>-0.9612</td>\n",
       "      <td>-0.4537</td>\n",
       "      <td>2.0</td>\n",
       "      <td>3</td>\n",
       "      <td>5</td>\n",
       "      <td>3</td>\n",
       "      <td>0.0670</td>\n",
       "    </tr>\n",
       "    <tr>\n",
       "      <th>2</th>\n",
       "      <td>EID_3891</td>\n",
       "      <td>F</td>\n",
       "      <td>58.0</td>\n",
       "      <td>3</td>\n",
       "      <td>Married</td>\n",
       "      <td>Clinton</td>\n",
       "      <td>Quality</td>\n",
       "      <td>Conceptual</td>\n",
       "      <td>27.0</td>\n",
       "      <td>3</td>\n",
       "      <td>51</td>\n",
       "      <td>0</td>\n",
       "      <td>2</td>\n",
       "      <td>8.0</td>\n",
       "      <td>type2</td>\n",
       "      <td>1.0</td>\n",
       "      <td>4</td>\n",
       "      <td>-0.9612</td>\n",
       "      <td>-0.4537</td>\n",
       "      <td>3.0</td>\n",
       "      <td>3</td>\n",
       "      <td>8</td>\n",
       "      <td>3</td>\n",
       "      <td>0.0851</td>\n",
       "    </tr>\n",
       "    <tr>\n",
       "      <th>3</th>\n",
       "      <td>EID_17492</td>\n",
       "      <td>F</td>\n",
       "      <td>26.0</td>\n",
       "      <td>3</td>\n",
       "      <td>Single</td>\n",
       "      <td>Lebanon</td>\n",
       "      <td>Human Resource Management</td>\n",
       "      <td>Behavioral</td>\n",
       "      <td>4.0</td>\n",
       "      <td>3</td>\n",
       "      <td>56</td>\n",
       "      <td>1</td>\n",
       "      <td>3</td>\n",
       "      <td>8.0</td>\n",
       "      <td>type2</td>\n",
       "      <td>1.0</td>\n",
       "      <td>3</td>\n",
       "      <td>-1.8176</td>\n",
       "      <td>-0.4537</td>\n",
       "      <td>NaN</td>\n",
       "      <td>3</td>\n",
       "      <td>7</td>\n",
       "      <td>3</td>\n",
       "      <td>0.0668</td>\n",
       "    </tr>\n",
       "    <tr>\n",
       "      <th>4</th>\n",
       "      <td>EID_22534</td>\n",
       "      <td>F</td>\n",
       "      <td>31.0</td>\n",
       "      <td>1</td>\n",
       "      <td>Married</td>\n",
       "      <td>Springfield</td>\n",
       "      <td>Logistics</td>\n",
       "      <td>Conceptual</td>\n",
       "      <td>5.0</td>\n",
       "      <td>4</td>\n",
       "      <td>62</td>\n",
       "      <td>1</td>\n",
       "      <td>3</td>\n",
       "      <td>2.0</td>\n",
       "      <td>type3</td>\n",
       "      <td>3.0</td>\n",
       "      <td>1</td>\n",
       "      <td>0.7516</td>\n",
       "      <td>-0.4537</td>\n",
       "      <td>2.0</td>\n",
       "      <td>2</td>\n",
       "      <td>8</td>\n",
       "      <td>2</td>\n",
       "      <td>0.1827</td>\n",
       "    </tr>\n",
       "  </tbody>\n",
       "</table>\n",
       "</div>"
      ],
      "text/plain": [
       "  Employee_ID Gender   Age  Education_Level  ... VAR5 VAR6 VAR7 Attrition_rate\n",
       "0   EID_23371      F  42.0                4  ...    4    5    3         0.1841\n",
       "1   EID_18000      M  24.0                3  ...    3    5    3         0.0670\n",
       "2    EID_3891      F  58.0                3  ...    3    8    3         0.0851\n",
       "3   EID_17492      F  26.0                3  ...    3    7    3         0.0668\n",
       "4   EID_22534      F  31.0                1  ...    2    8    2         0.1827\n",
       "\n",
       "[5 rows x 24 columns]"
      ]
     },
     "execution_count": 4,
     "metadata": {
      "tags": []
     },
     "output_type": "execute_result"
    }
   ],
   "source": [
    "train.head()"
   ]
  },
  {
   "cell_type": "code",
   "execution_count": 5,
   "metadata": {
    "colab": {},
    "colab_type": "code",
    "id": "yFqAkt9WEZta"
   },
   "outputs": [],
   "source": [
    "Gender = pd.get_dummies(train['Gender'],drop_first=True)\n",
    "Relationship_Status=pd.get_dummies(train['Relationship_Status'],drop_first=True)\n",
    "Hometown=pd.get_dummies(train['Hometown'],drop_first=True)\n",
    "Unit=pd.get_dummies(train['Unit'],drop_first=True)\n",
    "Decision_skill_possess=pd.get_dummies(train['Decision_skill_possess'],drop_first=True)\n",
    "Compensation_and_Benefits=pd.get_dummies(train['Compensation_and_Benefits'],drop_first=True)"
   ]
  },
  {
   "cell_type": "code",
   "execution_count": 6,
   "metadata": {
    "colab": {
     "base_uri": "https://localhost:8080/",
     "height": 121
    },
    "colab_type": "code",
    "id": "Ye7e64UWEZth",
    "outputId": "f0315148-a109-4da2-8123-6ac8b60fad28"
   },
   "outputs": [
    {
     "data": {
      "text/plain": [
       "Lebanon        2070\n",
       "Springfield    1736\n",
       "Franklin       1523\n",
       "Washington     1106\n",
       "Clinton         565\n",
       "Name: Hometown, dtype: int64"
      ]
     },
     "execution_count": 6,
     "metadata": {
      "tags": []
     },
     "output_type": "execute_result"
    }
   ],
   "source": [
    "train['Hometown'].value_counts()"
   ]
  },
  {
   "cell_type": "code",
   "execution_count": 7,
   "metadata": {
    "colab": {},
    "colab_type": "code",
    "id": "jSwcdkAEEZto"
   },
   "outputs": [],
   "source": [
    "train.drop(['Gender','Relationship_Status','Hometown','Unit','Decision_skill_possess','Compensation_and_Benefits'],axis=1,inplace=True)"
   ]
  },
  {
   "cell_type": "code",
   "execution_count": 8,
   "metadata": {
    "colab": {},
    "colab_type": "code",
    "id": "492gcQqLEZtu"
   },
   "outputs": [],
   "source": [
    "train = pd.concat([Gender,Relationship_Status,Hometown,Unit,Decision_skill_possess,Compensation_and_Benefits,train],axis=1)"
   ]
  },
  {
   "cell_type": "code",
   "execution_count": 9,
   "metadata": {
    "colab": {
     "base_uri": "https://localhost:8080/",
     "height": 257
    },
    "colab_type": "code",
    "id": "j7QOXcRtEZt0",
    "outputId": "6c331506-d1c8-49c9-c612-e23a589e87ac"
   },
   "outputs": [
    {
     "data": {
      "text/html": [
       "<div>\n",
       "<style scoped>\n",
       "    .dataframe tbody tr th:only-of-type {\n",
       "        vertical-align: middle;\n",
       "    }\n",
       "\n",
       "    .dataframe tbody tr th {\n",
       "        vertical-align: top;\n",
       "    }\n",
       "\n",
       "    .dataframe thead th {\n",
       "        text-align: right;\n",
       "    }\n",
       "</style>\n",
       "<table border=\"1\" class=\"dataframe\">\n",
       "  <thead>\n",
       "    <tr style=\"text-align: right;\">\n",
       "      <th></th>\n",
       "      <th>M</th>\n",
       "      <th>Single</th>\n",
       "      <th>Franklin</th>\n",
       "      <th>Lebanon</th>\n",
       "      <th>Springfield</th>\n",
       "      <th>Washington</th>\n",
       "      <th>Human Resource Management</th>\n",
       "      <th>IT</th>\n",
       "      <th>Logistics</th>\n",
       "      <th>Marketing</th>\n",
       "      <th>Operarions</th>\n",
       "      <th>Production</th>\n",
       "      <th>Purchasing</th>\n",
       "      <th>Quality</th>\n",
       "      <th>R&amp;D</th>\n",
       "      <th>Sales</th>\n",
       "      <th>Security</th>\n",
       "      <th>Behavioral</th>\n",
       "      <th>Conceptual</th>\n",
       "      <th>Directive</th>\n",
       "      <th>type1</th>\n",
       "      <th>type2</th>\n",
       "      <th>type3</th>\n",
       "      <th>type4</th>\n",
       "      <th>Employee_ID</th>\n",
       "      <th>Age</th>\n",
       "      <th>Education_Level</th>\n",
       "      <th>Time_of_service</th>\n",
       "      <th>Time_since_promotion</th>\n",
       "      <th>growth_rate</th>\n",
       "      <th>Travel_Rate</th>\n",
       "      <th>Post_Level</th>\n",
       "      <th>Pay_Scale</th>\n",
       "      <th>Work_Life_balance</th>\n",
       "      <th>VAR1</th>\n",
       "      <th>VAR2</th>\n",
       "      <th>VAR3</th>\n",
       "      <th>VAR4</th>\n",
       "      <th>VAR5</th>\n",
       "      <th>VAR6</th>\n",
       "      <th>VAR7</th>\n",
       "      <th>Attrition_rate</th>\n",
       "    </tr>\n",
       "  </thead>\n",
       "  <tbody>\n",
       "    <tr>\n",
       "      <th>0</th>\n",
       "      <td>0</td>\n",
       "      <td>0</td>\n",
       "      <td>1</td>\n",
       "      <td>0</td>\n",
       "      <td>0</td>\n",
       "      <td>0</td>\n",
       "      <td>0</td>\n",
       "      <td>1</td>\n",
       "      <td>0</td>\n",
       "      <td>0</td>\n",
       "      <td>0</td>\n",
       "      <td>0</td>\n",
       "      <td>0</td>\n",
       "      <td>0</td>\n",
       "      <td>0</td>\n",
       "      <td>0</td>\n",
       "      <td>0</td>\n",
       "      <td>0</td>\n",
       "      <td>1</td>\n",
       "      <td>0</td>\n",
       "      <td>0</td>\n",
       "      <td>1</td>\n",
       "      <td>0</td>\n",
       "      <td>0</td>\n",
       "      <td>EID_23371</td>\n",
       "      <td>42.0</td>\n",
       "      <td>4</td>\n",
       "      <td>4.0</td>\n",
       "      <td>4</td>\n",
       "      <td>33</td>\n",
       "      <td>1</td>\n",
       "      <td>1</td>\n",
       "      <td>7.0</td>\n",
       "      <td>3.0</td>\n",
       "      <td>4</td>\n",
       "      <td>0.7516</td>\n",
       "      <td>1.8688</td>\n",
       "      <td>2.0</td>\n",
       "      <td>4</td>\n",
       "      <td>5</td>\n",
       "      <td>3</td>\n",
       "      <td>0.1841</td>\n",
       "    </tr>\n",
       "    <tr>\n",
       "      <th>1</th>\n",
       "      <td>1</td>\n",
       "      <td>1</td>\n",
       "      <td>0</td>\n",
       "      <td>0</td>\n",
       "      <td>1</td>\n",
       "      <td>0</td>\n",
       "      <td>0</td>\n",
       "      <td>0</td>\n",
       "      <td>1</td>\n",
       "      <td>0</td>\n",
       "      <td>0</td>\n",
       "      <td>0</td>\n",
       "      <td>0</td>\n",
       "      <td>0</td>\n",
       "      <td>0</td>\n",
       "      <td>0</td>\n",
       "      <td>0</td>\n",
       "      <td>0</td>\n",
       "      <td>0</td>\n",
       "      <td>0</td>\n",
       "      <td>0</td>\n",
       "      <td>1</td>\n",
       "      <td>0</td>\n",
       "      <td>0</td>\n",
       "      <td>EID_18000</td>\n",
       "      <td>24.0</td>\n",
       "      <td>3</td>\n",
       "      <td>5.0</td>\n",
       "      <td>4</td>\n",
       "      <td>36</td>\n",
       "      <td>0</td>\n",
       "      <td>3</td>\n",
       "      <td>6.0</td>\n",
       "      <td>4.0</td>\n",
       "      <td>3</td>\n",
       "      <td>-0.9612</td>\n",
       "      <td>-0.4537</td>\n",
       "      <td>2.0</td>\n",
       "      <td>3</td>\n",
       "      <td>5</td>\n",
       "      <td>3</td>\n",
       "      <td>0.0670</td>\n",
       "    </tr>\n",
       "    <tr>\n",
       "      <th>2</th>\n",
       "      <td>0</td>\n",
       "      <td>0</td>\n",
       "      <td>0</td>\n",
       "      <td>0</td>\n",
       "      <td>0</td>\n",
       "      <td>0</td>\n",
       "      <td>0</td>\n",
       "      <td>0</td>\n",
       "      <td>0</td>\n",
       "      <td>0</td>\n",
       "      <td>0</td>\n",
       "      <td>0</td>\n",
       "      <td>0</td>\n",
       "      <td>1</td>\n",
       "      <td>0</td>\n",
       "      <td>0</td>\n",
       "      <td>0</td>\n",
       "      <td>0</td>\n",
       "      <td>1</td>\n",
       "      <td>0</td>\n",
       "      <td>0</td>\n",
       "      <td>1</td>\n",
       "      <td>0</td>\n",
       "      <td>0</td>\n",
       "      <td>EID_3891</td>\n",
       "      <td>58.0</td>\n",
       "      <td>3</td>\n",
       "      <td>27.0</td>\n",
       "      <td>3</td>\n",
       "      <td>51</td>\n",
       "      <td>0</td>\n",
       "      <td>2</td>\n",
       "      <td>8.0</td>\n",
       "      <td>1.0</td>\n",
       "      <td>4</td>\n",
       "      <td>-0.9612</td>\n",
       "      <td>-0.4537</td>\n",
       "      <td>3.0</td>\n",
       "      <td>3</td>\n",
       "      <td>8</td>\n",
       "      <td>3</td>\n",
       "      <td>0.0851</td>\n",
       "    </tr>\n",
       "    <tr>\n",
       "      <th>3</th>\n",
       "      <td>0</td>\n",
       "      <td>1</td>\n",
       "      <td>0</td>\n",
       "      <td>1</td>\n",
       "      <td>0</td>\n",
       "      <td>0</td>\n",
       "      <td>1</td>\n",
       "      <td>0</td>\n",
       "      <td>0</td>\n",
       "      <td>0</td>\n",
       "      <td>0</td>\n",
       "      <td>0</td>\n",
       "      <td>0</td>\n",
       "      <td>0</td>\n",
       "      <td>0</td>\n",
       "      <td>0</td>\n",
       "      <td>0</td>\n",
       "      <td>1</td>\n",
       "      <td>0</td>\n",
       "      <td>0</td>\n",
       "      <td>0</td>\n",
       "      <td>1</td>\n",
       "      <td>0</td>\n",
       "      <td>0</td>\n",
       "      <td>EID_17492</td>\n",
       "      <td>26.0</td>\n",
       "      <td>3</td>\n",
       "      <td>4.0</td>\n",
       "      <td>3</td>\n",
       "      <td>56</td>\n",
       "      <td>1</td>\n",
       "      <td>3</td>\n",
       "      <td>8.0</td>\n",
       "      <td>1.0</td>\n",
       "      <td>3</td>\n",
       "      <td>-1.8176</td>\n",
       "      <td>-0.4537</td>\n",
       "      <td>NaN</td>\n",
       "      <td>3</td>\n",
       "      <td>7</td>\n",
       "      <td>3</td>\n",
       "      <td>0.0668</td>\n",
       "    </tr>\n",
       "    <tr>\n",
       "      <th>4</th>\n",
       "      <td>0</td>\n",
       "      <td>0</td>\n",
       "      <td>0</td>\n",
       "      <td>0</td>\n",
       "      <td>1</td>\n",
       "      <td>0</td>\n",
       "      <td>0</td>\n",
       "      <td>0</td>\n",
       "      <td>1</td>\n",
       "      <td>0</td>\n",
       "      <td>0</td>\n",
       "      <td>0</td>\n",
       "      <td>0</td>\n",
       "      <td>0</td>\n",
       "      <td>0</td>\n",
       "      <td>0</td>\n",
       "      <td>0</td>\n",
       "      <td>0</td>\n",
       "      <td>1</td>\n",
       "      <td>0</td>\n",
       "      <td>0</td>\n",
       "      <td>0</td>\n",
       "      <td>1</td>\n",
       "      <td>0</td>\n",
       "      <td>EID_22534</td>\n",
       "      <td>31.0</td>\n",
       "      <td>1</td>\n",
       "      <td>5.0</td>\n",
       "      <td>4</td>\n",
       "      <td>62</td>\n",
       "      <td>1</td>\n",
       "      <td>3</td>\n",
       "      <td>2.0</td>\n",
       "      <td>3.0</td>\n",
       "      <td>1</td>\n",
       "      <td>0.7516</td>\n",
       "      <td>-0.4537</td>\n",
       "      <td>2.0</td>\n",
       "      <td>2</td>\n",
       "      <td>8</td>\n",
       "      <td>2</td>\n",
       "      <td>0.1827</td>\n",
       "    </tr>\n",
       "  </tbody>\n",
       "</table>\n",
       "</div>"
      ],
      "text/plain": [
       "   M  Single  Franklin  Lebanon  ...  VAR5  VAR6  VAR7  Attrition_rate\n",
       "0  0       0         1        0  ...     4     5     3          0.1841\n",
       "1  1       1         0        0  ...     3     5     3          0.0670\n",
       "2  0       0         0        0  ...     3     8     3          0.0851\n",
       "3  0       1         0        1  ...     3     7     3          0.0668\n",
       "4  0       0         0        0  ...     2     8     2          0.1827\n",
       "\n",
       "[5 rows x 42 columns]"
      ]
     },
     "execution_count": 9,
     "metadata": {
      "tags": []
     },
     "output_type": "execute_result"
    }
   ],
   "source": [
    "train.head()"
   ]
  },
  {
   "cell_type": "code",
   "execution_count": 10,
   "metadata": {
    "colab": {
     "base_uri": "https://localhost:8080/",
     "height": 867
    },
    "colab_type": "code",
    "id": "_W4xecmXEZt6",
    "outputId": "76a900f2-c8ae-43ed-edde-e36b1d71864f"
   },
   "outputs": [
    {
     "name": "stdout",
     "output_type": "stream",
     "text": [
      "<class 'pandas.core.frame.DataFrame'>\n",
      "RangeIndex: 7000 entries, 0 to 6999\n",
      "Data columns (total 42 columns):\n",
      " #   Column                     Non-Null Count  Dtype  \n",
      "---  ------                     --------------  -----  \n",
      " 0   M                          7000 non-null   uint8  \n",
      " 1   Single                     7000 non-null   uint8  \n",
      " 2   Franklin                   7000 non-null   uint8  \n",
      " 3   Lebanon                    7000 non-null   uint8  \n",
      " 4   Springfield                7000 non-null   uint8  \n",
      " 5   Washington                 7000 non-null   uint8  \n",
      " 6   Human Resource Management  7000 non-null   uint8  \n",
      " 7   IT                         7000 non-null   uint8  \n",
      " 8   Logistics                  7000 non-null   uint8  \n",
      " 9   Marketing                  7000 non-null   uint8  \n",
      " 10  Operarions                 7000 non-null   uint8  \n",
      " 11  Production                 7000 non-null   uint8  \n",
      " 12  Purchasing                 7000 non-null   uint8  \n",
      " 13  Quality                    7000 non-null   uint8  \n",
      " 14  R&D                        7000 non-null   uint8  \n",
      " 15  Sales                      7000 non-null   uint8  \n",
      " 16  Security                   7000 non-null   uint8  \n",
      " 17  Behavioral                 7000 non-null   uint8  \n",
      " 18  Conceptual                 7000 non-null   uint8  \n",
      " 19  Directive                  7000 non-null   uint8  \n",
      " 20  type1                      7000 non-null   uint8  \n",
      " 21  type2                      7000 non-null   uint8  \n",
      " 22  type3                      7000 non-null   uint8  \n",
      " 23  type4                      7000 non-null   uint8  \n",
      " 24  Employee_ID                7000 non-null   object \n",
      " 25  Age                        6588 non-null   float64\n",
      " 26  Education_Level            7000 non-null   int64  \n",
      " 27  Time_of_service            6856 non-null   float64\n",
      " 28  Time_since_promotion       7000 non-null   int64  \n",
      " 29  growth_rate                7000 non-null   int64  \n",
      " 30  Travel_Rate                7000 non-null   int64  \n",
      " 31  Post_Level                 7000 non-null   int64  \n",
      " 32  Pay_Scale                  6991 non-null   float64\n",
      " 33  Work_Life_balance          6989 non-null   float64\n",
      " 34  VAR1                       7000 non-null   int64  \n",
      " 35  VAR2                       6423 non-null   float64\n",
      " 36  VAR3                       7000 non-null   float64\n",
      " 37  VAR4                       6344 non-null   float64\n",
      " 38  VAR5                       7000 non-null   int64  \n",
      " 39  VAR6                       7000 non-null   int64  \n",
      " 40  VAR7                       7000 non-null   int64  \n",
      " 41  Attrition_rate             7000 non-null   float64\n",
      "dtypes: float64(8), int64(9), object(1), uint8(24)\n",
      "memory usage: 1.1+ MB\n"
     ]
    }
   ],
   "source": [
    "train.info()"
   ]
  },
  {
   "cell_type": "code",
   "execution_count": 11,
   "metadata": {
    "colab": {},
    "colab_type": "code",
    "id": "9jzeCjZNEZuA"
   },
   "outputs": [],
   "source": [
    "train['Age']=train['Age'].fillna(40)"
   ]
  },
  {
   "cell_type": "code",
   "execution_count": 12,
   "metadata": {
    "colab": {
     "base_uri": "https://localhost:8080/",
     "height": 867
    },
    "colab_type": "code",
    "id": "Wcg-4INFEZuF",
    "outputId": "52f0012e-59e3-4238-bf48-54f70aa79a17"
   },
   "outputs": [
    {
     "name": "stdout",
     "output_type": "stream",
     "text": [
      "<class 'pandas.core.frame.DataFrame'>\n",
      "RangeIndex: 7000 entries, 0 to 6999\n",
      "Data columns (total 42 columns):\n",
      " #   Column                     Non-Null Count  Dtype  \n",
      "---  ------                     --------------  -----  \n",
      " 0   M                          7000 non-null   uint8  \n",
      " 1   Single                     7000 non-null   uint8  \n",
      " 2   Franklin                   7000 non-null   uint8  \n",
      " 3   Lebanon                    7000 non-null   uint8  \n",
      " 4   Springfield                7000 non-null   uint8  \n",
      " 5   Washington                 7000 non-null   uint8  \n",
      " 6   Human Resource Management  7000 non-null   uint8  \n",
      " 7   IT                         7000 non-null   uint8  \n",
      " 8   Logistics                  7000 non-null   uint8  \n",
      " 9   Marketing                  7000 non-null   uint8  \n",
      " 10  Operarions                 7000 non-null   uint8  \n",
      " 11  Production                 7000 non-null   uint8  \n",
      " 12  Purchasing                 7000 non-null   uint8  \n",
      " 13  Quality                    7000 non-null   uint8  \n",
      " 14  R&D                        7000 non-null   uint8  \n",
      " 15  Sales                      7000 non-null   uint8  \n",
      " 16  Security                   7000 non-null   uint8  \n",
      " 17  Behavioral                 7000 non-null   uint8  \n",
      " 18  Conceptual                 7000 non-null   uint8  \n",
      " 19  Directive                  7000 non-null   uint8  \n",
      " 20  type1                      7000 non-null   uint8  \n",
      " 21  type2                      7000 non-null   uint8  \n",
      " 22  type3                      7000 non-null   uint8  \n",
      " 23  type4                      7000 non-null   uint8  \n",
      " 24  Employee_ID                7000 non-null   object \n",
      " 25  Age                        7000 non-null   float64\n",
      " 26  Education_Level            7000 non-null   int64  \n",
      " 27  Time_of_service            6856 non-null   float64\n",
      " 28  Time_since_promotion       7000 non-null   int64  \n",
      " 29  growth_rate                7000 non-null   int64  \n",
      " 30  Travel_Rate                7000 non-null   int64  \n",
      " 31  Post_Level                 7000 non-null   int64  \n",
      " 32  Pay_Scale                  6991 non-null   float64\n",
      " 33  Work_Life_balance          6989 non-null   float64\n",
      " 34  VAR1                       7000 non-null   int64  \n",
      " 35  VAR2                       6423 non-null   float64\n",
      " 36  VAR3                       7000 non-null   float64\n",
      " 37  VAR4                       6344 non-null   float64\n",
      " 38  VAR5                       7000 non-null   int64  \n",
      " 39  VAR6                       7000 non-null   int64  \n",
      " 40  VAR7                       7000 non-null   int64  \n",
      " 41  Attrition_rate             7000 non-null   float64\n",
      "dtypes: float64(8), int64(9), object(1), uint8(24)\n",
      "memory usage: 1.1+ MB\n"
     ]
    }
   ],
   "source": [
    "train.info()"
   ]
  },
  {
   "cell_type": "code",
   "execution_count": 13,
   "metadata": {
    "colab": {},
    "colab_type": "code",
    "id": "-6nbR5r0EZuL"
   },
   "outputs": [],
   "source": [
    "train['Time_of_service']=train['Time_of_service'].fillna(13)"
   ]
  },
  {
   "cell_type": "code",
   "execution_count": 14,
   "metadata": {
    "colab": {},
    "colab_type": "code",
    "id": "v1QrdEcNEZuQ"
   },
   "outputs": [],
   "source": [
    "train['Pay_Scale']=train['Pay_Scale'].fillna(6)"
   ]
  },
  {
   "cell_type": "code",
   "execution_count": 15,
   "metadata": {
    "colab": {},
    "colab_type": "code",
    "id": "q8YTzKAoEZuV"
   },
   "outputs": [],
   "source": [
    "train['Work_Life_balance']=train['Work_Life_balance'].fillna(2)"
   ]
  },
  {
   "cell_type": "code",
   "execution_count": 16,
   "metadata": {
    "colab": {},
    "colab_type": "code",
    "id": "HrotBORSEZua"
   },
   "outputs": [],
   "source": [
    "train['VAR2']=train['VAR2'].fillna(-0.0081)"
   ]
  },
  {
   "cell_type": "code",
   "execution_count": 17,
   "metadata": {
    "colab": {},
    "colab_type": "code",
    "id": "pTg739wbEZuf"
   },
   "outputs": [],
   "source": [
    "train['VAR4']=train['VAR4'].fillna(2)"
   ]
  },
  {
   "cell_type": "code",
   "execution_count": 18,
   "metadata": {
    "colab": {
     "base_uri": "https://localhost:8080/",
     "height": 867
    },
    "colab_type": "code",
    "id": "j86DtOP-EZuk",
    "outputId": "c90711ce-0d9b-420d-a30f-69bc5d98be5e"
   },
   "outputs": [
    {
     "name": "stdout",
     "output_type": "stream",
     "text": [
      "<class 'pandas.core.frame.DataFrame'>\n",
      "RangeIndex: 7000 entries, 0 to 6999\n",
      "Data columns (total 42 columns):\n",
      " #   Column                     Non-Null Count  Dtype  \n",
      "---  ------                     --------------  -----  \n",
      " 0   M                          7000 non-null   uint8  \n",
      " 1   Single                     7000 non-null   uint8  \n",
      " 2   Franklin                   7000 non-null   uint8  \n",
      " 3   Lebanon                    7000 non-null   uint8  \n",
      " 4   Springfield                7000 non-null   uint8  \n",
      " 5   Washington                 7000 non-null   uint8  \n",
      " 6   Human Resource Management  7000 non-null   uint8  \n",
      " 7   IT                         7000 non-null   uint8  \n",
      " 8   Logistics                  7000 non-null   uint8  \n",
      " 9   Marketing                  7000 non-null   uint8  \n",
      " 10  Operarions                 7000 non-null   uint8  \n",
      " 11  Production                 7000 non-null   uint8  \n",
      " 12  Purchasing                 7000 non-null   uint8  \n",
      " 13  Quality                    7000 non-null   uint8  \n",
      " 14  R&D                        7000 non-null   uint8  \n",
      " 15  Sales                      7000 non-null   uint8  \n",
      " 16  Security                   7000 non-null   uint8  \n",
      " 17  Behavioral                 7000 non-null   uint8  \n",
      " 18  Conceptual                 7000 non-null   uint8  \n",
      " 19  Directive                  7000 non-null   uint8  \n",
      " 20  type1                      7000 non-null   uint8  \n",
      " 21  type2                      7000 non-null   uint8  \n",
      " 22  type3                      7000 non-null   uint8  \n",
      " 23  type4                      7000 non-null   uint8  \n",
      " 24  Employee_ID                7000 non-null   object \n",
      " 25  Age                        7000 non-null   float64\n",
      " 26  Education_Level            7000 non-null   int64  \n",
      " 27  Time_of_service            7000 non-null   float64\n",
      " 28  Time_since_promotion       7000 non-null   int64  \n",
      " 29  growth_rate                7000 non-null   int64  \n",
      " 30  Travel_Rate                7000 non-null   int64  \n",
      " 31  Post_Level                 7000 non-null   int64  \n",
      " 32  Pay_Scale                  7000 non-null   float64\n",
      " 33  Work_Life_balance          7000 non-null   float64\n",
      " 34  VAR1                       7000 non-null   int64  \n",
      " 35  VAR2                       7000 non-null   float64\n",
      " 36  VAR3                       7000 non-null   float64\n",
      " 37  VAR4                       7000 non-null   float64\n",
      " 38  VAR5                       7000 non-null   int64  \n",
      " 39  VAR6                       7000 non-null   int64  \n",
      " 40  VAR7                       7000 non-null   int64  \n",
      " 41  Attrition_rate             7000 non-null   float64\n",
      "dtypes: float64(8), int64(9), object(1), uint8(24)\n",
      "memory usage: 1.1+ MB\n"
     ]
    }
   ],
   "source": [
    "train.info()"
   ]
  },
  {
   "cell_type": "code",
   "execution_count": 19,
   "metadata": {
    "colab": {},
    "colab_type": "code",
    "id": "B3UUMBevEZur"
   },
   "outputs": [],
   "source": [
    "train.drop('Employee_ID',axis=1,inplace=True)"
   ]
  },
  {
   "cell_type": "code",
   "execution_count": 20,
   "metadata": {
    "colab": {
     "base_uri": "https://localhost:8080/",
     "height": 849
    },
    "colab_type": "code",
    "id": "UTlshYf1EZuw",
    "outputId": "1b8b0e38-f0d5-43e9-d5b6-0039a5d76d4b"
   },
   "outputs": [
    {
     "name": "stdout",
     "output_type": "stream",
     "text": [
      "<class 'pandas.core.frame.DataFrame'>\n",
      "RangeIndex: 7000 entries, 0 to 6999\n",
      "Data columns (total 41 columns):\n",
      " #   Column                     Non-Null Count  Dtype  \n",
      "---  ------                     --------------  -----  \n",
      " 0   M                          7000 non-null   uint8  \n",
      " 1   Single                     7000 non-null   uint8  \n",
      " 2   Franklin                   7000 non-null   uint8  \n",
      " 3   Lebanon                    7000 non-null   uint8  \n",
      " 4   Springfield                7000 non-null   uint8  \n",
      " 5   Washington                 7000 non-null   uint8  \n",
      " 6   Human Resource Management  7000 non-null   uint8  \n",
      " 7   IT                         7000 non-null   uint8  \n",
      " 8   Logistics                  7000 non-null   uint8  \n",
      " 9   Marketing                  7000 non-null   uint8  \n",
      " 10  Operarions                 7000 non-null   uint8  \n",
      " 11  Production                 7000 non-null   uint8  \n",
      " 12  Purchasing                 7000 non-null   uint8  \n",
      " 13  Quality                    7000 non-null   uint8  \n",
      " 14  R&D                        7000 non-null   uint8  \n",
      " 15  Sales                      7000 non-null   uint8  \n",
      " 16  Security                   7000 non-null   uint8  \n",
      " 17  Behavioral                 7000 non-null   uint8  \n",
      " 18  Conceptual                 7000 non-null   uint8  \n",
      " 19  Directive                  7000 non-null   uint8  \n",
      " 20  type1                      7000 non-null   uint8  \n",
      " 21  type2                      7000 non-null   uint8  \n",
      " 22  type3                      7000 non-null   uint8  \n",
      " 23  type4                      7000 non-null   uint8  \n",
      " 24  Age                        7000 non-null   float64\n",
      " 25  Education_Level            7000 non-null   int64  \n",
      " 26  Time_of_service            7000 non-null   float64\n",
      " 27  Time_since_promotion       7000 non-null   int64  \n",
      " 28  growth_rate                7000 non-null   int64  \n",
      " 29  Travel_Rate                7000 non-null   int64  \n",
      " 30  Post_Level                 7000 non-null   int64  \n",
      " 31  Pay_Scale                  7000 non-null   float64\n",
      " 32  Work_Life_balance          7000 non-null   float64\n",
      " 33  VAR1                       7000 non-null   int64  \n",
      " 34  VAR2                       7000 non-null   float64\n",
      " 35  VAR3                       7000 non-null   float64\n",
      " 36  VAR4                       7000 non-null   float64\n",
      " 37  VAR5                       7000 non-null   int64  \n",
      " 38  VAR6                       7000 non-null   int64  \n",
      " 39  VAR7                       7000 non-null   int64  \n",
      " 40  Attrition_rate             7000 non-null   float64\n",
      "dtypes: float64(8), int64(9), uint8(24)\n",
      "memory usage: 1.1 MB\n"
     ]
    }
   ],
   "source": [
    "train.info()"
   ]
  },
  {
   "cell_type": "code",
   "execution_count": 21,
   "metadata": {
    "colab": {},
    "colab_type": "code",
    "id": "qTYyZlRiEZu0"
   },
   "outputs": [],
   "source": [
    "X = train.iloc[:, :40].values\n",
    "y = train.iloc[:, 40].values"
   ]
  },
  {
   "cell_type": "code",
   "execution_count": 22,
   "metadata": {
    "colab": {},
    "colab_type": "code",
    "id": "YMlNPwFZEZu5"
   },
   "outputs": [],
   "source": [
    "from sklearn.model_selection import train_test_split\n",
    "X_train_full, X_test, y_train_full, y_test = train_test_split(X, y, test_size = 0.2, random_state = 42)\n",
    "X_train, X_valid, y_train, y_valid = train_test_split(X_train_full, y_train_full, random_state=42)"
   ]
  },
  {
   "cell_type": "code",
   "execution_count": 23,
   "metadata": {
    "colab": {},
    "colab_type": "code",
    "id": "WdymWtZWEZu-"
   },
   "outputs": [],
   "source": [
    "from sklearn.preprocessing import StandardScaler\n",
    "scaler = StandardScaler()\n",
    "X_train = scaler.fit_transform(X_train)\n",
    "X_valid = scaler.transform(X_valid)\n",
    "X_test = scaler.transform(X_test)"
   ]
  },
  {
   "cell_type": "code",
   "execution_count": 24,
   "metadata": {
    "colab": {
     "base_uri": "https://localhost:8080/",
     "height": 35
    },
    "colab_type": "code",
    "id": "v1d_8Az8EZvD",
    "outputId": "9897fcdf-aec2-4ca4-ea30-b6b486c4e751"
   },
   "outputs": [
    {
     "data": {
      "text/plain": [
       "(4200, 40)"
      ]
     },
     "execution_count": 24,
     "metadata": {
      "tags": []
     },
     "output_type": "execute_result"
    }
   ],
   "source": [
    "X_train.shape"
   ]
  },
  {
   "cell_type": "code",
   "execution_count": 25,
   "metadata": {
    "colab": {},
    "colab_type": "code",
    "id": "YXpINBPjEZvO"
   },
   "outputs": [],
   "source": [
    "import tensorflow as tf\n",
    "from tensorflow import keras\n",
    "np.random.seed(42)\n",
    "tf.random.set_seed(42)\n"
   ]
  },
  {
   "cell_type": "code",
   "execution_count": 26,
   "metadata": {
    "colab": {},
    "colab_type": "code",
    "id": "Fn8YboeuGIiz"
   },
   "outputs": [],
   "source": [
    "model = keras.models.Sequential([\n",
    "    keras.layers.Dense(25, kernel_initializer = 'uniform',activation=\"relu\", input_shape=[40]),\n",
    "    keras.layers.Dense(25, kernel_initializer = 'uniform',activation=\"relu\"),\n",
    "    keras.layers.Dense(25, kernel_initializer = 'uniform',activation=\"relu\"),\n",
    "    keras.layers.Dense(25, kernel_initializer = 'uniform',activation=\"relu\"),\n",
    "    keras.layers.Dense(25, kernel_initializer = 'uniform',activation=\"relu\"),\n",
    "    keras.layers.Dense(25, kernel_initializer = 'uniform',activation=\"relu\"),\n",
    "    keras.layers.Dense(25, kernel_initializer = 'uniform',activation=\"relu\"),\n",
    "    keras.layers.Dense(10, kernel_initializer = 'uniform',activation=\"relu\"),\n",
    "    keras.layers.Dense(1)\n",
    "])"
   ]
  },
  {
   "cell_type": "code",
   "execution_count": 27,
   "metadata": {
    "colab": {},
    "colab_type": "code",
    "id": "PDdpZfo6GVkj"
   },
   "outputs": [],
   "source": [
    "model.compile(loss=\"mean_squared_error\", \n",
    "              optimizer=keras.optimizers.SGD(lr=1e-3), \n",
    "              metrics=['mae'])"
   ]
  },
  {
   "cell_type": "code",
   "execution_count": 28,
   "metadata": {
    "colab": {},
    "colab_type": "code",
    "id": "qQq2Rte585Wg"
   },
   "outputs": [],
   "source": [
    "checkpoint_cb = keras.callbacks.ModelCheckpoint(\"early_stop_model.h5\", save_best_only=True)"
   ]
  },
  {
   "cell_type": "code",
   "execution_count": 29,
   "metadata": {
    "colab": {},
    "colab_type": "code",
    "id": "kOUJYZrs86Oz"
   },
   "outputs": [],
   "source": [
    "early_stopping_cb = keras.callbacks.EarlyStopping(patience=10,\n",
    "                                                  restore_best_weights=True)"
   ]
  },
  {
   "cell_type": "code",
   "execution_count": 30,
   "metadata": {
    "colab": {
     "base_uri": "https://localhost:8080/",
     "height": 1000
    },
    "colab_type": "code",
    "id": "EBe8lBooGY58",
    "outputId": "e219c6b5-6f6a-4761-9ddc-11e664dfb389"
   },
   "outputs": [
    {
     "name": "stdout",
     "output_type": "stream",
     "text": [
      "Epoch 1/500\n",
      "132/132 [==============================] - 0s 3ms/step - loss: 0.0552 - mae: 0.1538 - val_loss: 0.0498 - val_mae: 0.1367\n",
      "Epoch 2/500\n",
      "132/132 [==============================] - 0s 2ms/step - loss: 0.0408 - mae: 0.1235 - val_loss: 0.0413 - val_mae: 0.1239\n",
      "Epoch 3/500\n",
      "132/132 [==============================] - 0s 2ms/step - loss: 0.0360 - mae: 0.1182 - val_loss: 0.0383 - val_mae: 0.1237\n",
      "Epoch 4/500\n",
      "132/132 [==============================] - 0s 2ms/step - loss: 0.0344 - mae: 0.1190 - val_loss: 0.0373 - val_mae: 0.1257\n",
      "Epoch 5/500\n",
      "132/132 [==============================] - 0s 2ms/step - loss: 0.0339 - mae: 0.1210 - val_loss: 0.0369 - val_mae: 0.1276\n",
      "Epoch 6/500\n",
      "132/132 [==============================] - 0s 2ms/step - loss: 0.0338 - mae: 0.1225 - val_loss: 0.0368 - val_mae: 0.1289\n",
      "Epoch 7/500\n",
      "132/132 [==============================] - 0s 2ms/step - loss: 0.0337 - mae: 0.1236 - val_loss: 0.0367 - val_mae: 0.1296\n",
      "Epoch 8/500\n",
      "132/132 [==============================] - 0s 2ms/step - loss: 0.0337 - mae: 0.1241 - val_loss: 0.0367 - val_mae: 0.1301\n",
      "Epoch 9/500\n",
      "132/132 [==============================] - 0s 2ms/step - loss: 0.0337 - mae: 0.1245 - val_loss: 0.0367 - val_mae: 0.1304\n",
      "Epoch 10/500\n",
      "132/132 [==============================] - 0s 2ms/step - loss: 0.0337 - mae: 0.1247 - val_loss: 0.0366 - val_mae: 0.1306\n",
      "Epoch 11/500\n",
      "132/132 [==============================] - 0s 2ms/step - loss: 0.0337 - mae: 0.1249 - val_loss: 0.0366 - val_mae: 0.1306\n",
      "Epoch 12/500\n",
      "132/132 [==============================] - 0s 2ms/step - loss: 0.0337 - mae: 0.1249 - val_loss: 0.0366 - val_mae: 0.1307\n",
      "Epoch 13/500\n",
      "132/132 [==============================] - 0s 2ms/step - loss: 0.0337 - mae: 0.1251 - val_loss: 0.0366 - val_mae: 0.1307\n",
      "Epoch 14/500\n",
      "132/132 [==============================] - 0s 2ms/step - loss: 0.0337 - mae: 0.1250 - val_loss: 0.0367 - val_mae: 0.1306\n",
      "Epoch 15/500\n",
      "132/132 [==============================] - 0s 2ms/step - loss: 0.0337 - mae: 0.1250 - val_loss: 0.0366 - val_mae: 0.1306\n",
      "Epoch 16/500\n",
      "132/132 [==============================] - 0s 2ms/step - loss: 0.0337 - mae: 0.1248 - val_loss: 0.0366 - val_mae: 0.1308\n",
      "Epoch 17/500\n",
      "132/132 [==============================] - 0s 2ms/step - loss: 0.0337 - mae: 0.1252 - val_loss: 0.0366 - val_mae: 0.1308\n",
      "Epoch 18/500\n",
      "132/132 [==============================] - 0s 2ms/step - loss: 0.0337 - mae: 0.1249 - val_loss: 0.0366 - val_mae: 0.1309\n",
      "Epoch 19/500\n",
      "132/132 [==============================] - 0s 2ms/step - loss: 0.0337 - mae: 0.1253 - val_loss: 0.0366 - val_mae: 0.1308\n",
      "Epoch 20/500\n",
      "132/132 [==============================] - 0s 2ms/step - loss: 0.0337 - mae: 0.1252 - val_loss: 0.0366 - val_mae: 0.1307\n",
      "Epoch 21/500\n",
      "132/132 [==============================] - 0s 2ms/step - loss: 0.0337 - mae: 0.1251 - val_loss: 0.0366 - val_mae: 0.1307\n",
      "Epoch 22/500\n",
      "132/132 [==============================] - 0s 2ms/step - loss: 0.0337 - mae: 0.1252 - val_loss: 0.0366 - val_mae: 0.1306\n",
      "Epoch 23/500\n",
      "132/132 [==============================] - 0s 2ms/step - loss: 0.0337 - mae: 0.1251 - val_loss: 0.0367 - val_mae: 0.1305\n",
      "Epoch 24/500\n",
      "132/132 [==============================] - 0s 2ms/step - loss: 0.0337 - mae: 0.1247 - val_loss: 0.0366 - val_mae: 0.1307\n",
      "Epoch 25/500\n",
      "132/132 [==============================] - 0s 2ms/step - loss: 0.0337 - mae: 0.1249 - val_loss: 0.0366 - val_mae: 0.1307\n",
      "Epoch 26/500\n",
      "132/132 [==============================] - 0s 2ms/step - loss: 0.0337 - mae: 0.1252 - val_loss: 0.0367 - val_mae: 0.1306\n",
      "Epoch 27/500\n",
      "132/132 [==============================] - 0s 2ms/step - loss: 0.0337 - mae: 0.1248 - val_loss: 0.0366 - val_mae: 0.1307\n",
      "Epoch 28/500\n",
      "132/132 [==============================] - 0s 2ms/step - loss: 0.0337 - mae: 0.1251 - val_loss: 0.0367 - val_mae: 0.1305\n"
     ]
    }
   ],
   "source": [
    "model_history = model.fit(X_train, y_train,batch_size=32, epochs=500, validation_data=(X_valid, y_valid),callbacks=[checkpoint_cb, early_stopping_cb])"
   ]
  },
  {
   "cell_type": "code",
   "execution_count": 31,
   "metadata": {
    "colab": {},
    "colab_type": "code",
    "id": "RxWH2C9FA4uf"
   },
   "outputs": [],
   "source": [
    "model = keras.models.load_model(\"early_stop_model.h5\")"
   ]
  },
  {
   "cell_type": "code",
   "execution_count": 32,
   "metadata": {
    "colab": {
     "base_uri": "https://localhost:8080/",
     "height": 537
    },
    "colab_type": "code",
    "id": "OF-Q_63HGe_P",
    "outputId": "3d46a194-2891-41a9-8f34-5c497e72b477"
   },
   "outputs": [
    {
     "name": "stdout",
     "output_type": "stream",
     "text": [
      "<class 'pandas.core.frame.DataFrame'>\n",
      "RangeIndex: 3000 entries, 0 to 2999\n",
      "Data columns (total 23 columns):\n",
      " #   Column                     Non-Null Count  Dtype  \n",
      "---  ------                     --------------  -----  \n",
      " 0   Employee_ID                3000 non-null   object \n",
      " 1   Gender                     3000 non-null   object \n",
      " 2   Age                        2839 non-null   float64\n",
      " 3   Education_Level            3000 non-null   int64  \n",
      " 4   Relationship_Status        3000 non-null   object \n",
      " 5   Hometown                   3000 non-null   object \n",
      " 6   Unit                       3000 non-null   object \n",
      " 7   Decision_skill_possess     3000 non-null   object \n",
      " 8   Time_of_service            2948 non-null   float64\n",
      " 9   Time_since_promotion       3000 non-null   int64  \n",
      " 10  growth_rate                3000 non-null   int64  \n",
      " 11  Travel_Rate                3000 non-null   int64  \n",
      " 12  Post_Level                 3000 non-null   int64  \n",
      " 13  Pay_Scale                  2997 non-null   float64\n",
      " 14  Compensation_and_Benefits  3000 non-null   object \n",
      " 15  Work_Life_balance          2995 non-null   float64\n",
      " 16  VAR1                       3000 non-null   int64  \n",
      " 17  VAR2                       2783 non-null   float64\n",
      " 18  VAR3                       3000 non-null   float64\n",
      " 19  VAR4                       2702 non-null   float64\n",
      " 20  VAR5                       3000 non-null   int64  \n",
      " 21  VAR6                       3000 non-null   int64  \n",
      " 22  VAR7                       3000 non-null   int64  \n",
      "dtypes: float64(7), int64(9), object(7)\n",
      "memory usage: 539.2+ KB\n"
     ]
    }
   ],
   "source": [
    "test.info()"
   ]
  },
  {
   "cell_type": "code",
   "execution_count": 33,
   "metadata": {
    "colab": {},
    "colab_type": "code",
    "id": "ghRRP8QKGyFy"
   },
   "outputs": [],
   "source": [
    "Gender = pd.get_dummies(test['Gender'],drop_first=True)\n",
    "Relationship_Status=pd.get_dummies(test['Relationship_Status'],drop_first=True)\n",
    "Hometown=pd.get_dummies(test['Hometown'],drop_first=True)\n",
    "Unit=pd.get_dummies(test['Unit'],drop_first=True)\n",
    "Decision_skill_possess=pd.get_dummies(test['Decision_skill_possess'],drop_first=True)\n",
    "Compensation_and_Benefits=pd.get_dummies(test['Compensation_and_Benefits'],drop_first=True)"
   ]
  },
  {
   "cell_type": "code",
   "execution_count": 34,
   "metadata": {
    "colab": {},
    "colab_type": "code",
    "id": "KU5391H6G_iY"
   },
   "outputs": [],
   "source": [
    "test.drop(['Gender','Relationship_Status','Hometown','Unit','Decision_skill_possess','Compensation_and_Benefits'],axis=1,inplace=True)"
   ]
  },
  {
   "cell_type": "code",
   "execution_count": 35,
   "metadata": {
    "colab": {},
    "colab_type": "code",
    "id": "cOtSHUYvHEfy"
   },
   "outputs": [],
   "source": [
    "test = pd.concat([Gender,Relationship_Status,Hometown,Unit,Decision_skill_possess,Compensation_and_Benefits,test],axis=1)"
   ]
  },
  {
   "cell_type": "code",
   "execution_count": 36,
   "metadata": {
    "colab": {
     "base_uri": "https://localhost:8080/",
     "height": 849
    },
    "colab_type": "code",
    "id": "joZX9-NIHINK",
    "outputId": "8cc4108b-ca18-49c3-9122-639b4d1e2796"
   },
   "outputs": [
    {
     "name": "stdout",
     "output_type": "stream",
     "text": [
      "<class 'pandas.core.frame.DataFrame'>\n",
      "RangeIndex: 3000 entries, 0 to 2999\n",
      "Data columns (total 41 columns):\n",
      " #   Column                     Non-Null Count  Dtype  \n",
      "---  ------                     --------------  -----  \n",
      " 0   M                          3000 non-null   uint8  \n",
      " 1   Single                     3000 non-null   uint8  \n",
      " 2   Franklin                   3000 non-null   uint8  \n",
      " 3   Lebanon                    3000 non-null   uint8  \n",
      " 4   Springfield                3000 non-null   uint8  \n",
      " 5   Washington                 3000 non-null   uint8  \n",
      " 6   Human Resource Management  3000 non-null   uint8  \n",
      " 7   IT                         3000 non-null   uint8  \n",
      " 8   Logistics                  3000 non-null   uint8  \n",
      " 9   Marketing                  3000 non-null   uint8  \n",
      " 10  Operarions                 3000 non-null   uint8  \n",
      " 11  Production                 3000 non-null   uint8  \n",
      " 12  Purchasing                 3000 non-null   uint8  \n",
      " 13  Quality                    3000 non-null   uint8  \n",
      " 14  R&D                        3000 non-null   uint8  \n",
      " 15  Sales                      3000 non-null   uint8  \n",
      " 16  Security                   3000 non-null   uint8  \n",
      " 17  Behavioral                 3000 non-null   uint8  \n",
      " 18  Conceptual                 3000 non-null   uint8  \n",
      " 19  Directive                  3000 non-null   uint8  \n",
      " 20  type1                      3000 non-null   uint8  \n",
      " 21  type2                      3000 non-null   uint8  \n",
      " 22  type3                      3000 non-null   uint8  \n",
      " 23  type4                      3000 non-null   uint8  \n",
      " 24  Employee_ID                3000 non-null   object \n",
      " 25  Age                        2839 non-null   float64\n",
      " 26  Education_Level            3000 non-null   int64  \n",
      " 27  Time_of_service            2948 non-null   float64\n",
      " 28  Time_since_promotion       3000 non-null   int64  \n",
      " 29  growth_rate                3000 non-null   int64  \n",
      " 30  Travel_Rate                3000 non-null   int64  \n",
      " 31  Post_Level                 3000 non-null   int64  \n",
      " 32  Pay_Scale                  2997 non-null   float64\n",
      " 33  Work_Life_balance          2995 non-null   float64\n",
      " 34  VAR1                       3000 non-null   int64  \n",
      " 35  VAR2                       2783 non-null   float64\n",
      " 36  VAR3                       3000 non-null   float64\n",
      " 37  VAR4                       2702 non-null   float64\n",
      " 38  VAR5                       3000 non-null   int64  \n",
      " 39  VAR6                       3000 non-null   int64  \n",
      " 40  VAR7                       3000 non-null   int64  \n",
      "dtypes: float64(7), int64(9), object(1), uint8(24)\n",
      "memory usage: 468.9+ KB\n"
     ]
    }
   ],
   "source": [
    "test.info()"
   ]
  },
  {
   "cell_type": "code",
   "execution_count": 37,
   "metadata": {
    "colab": {},
    "colab_type": "code",
    "id": "HsGGGoYlHL9T"
   },
   "outputs": [],
   "source": [
    "test['Age']=test['Age'].fillna(40)\n",
    "test['Time_of_service']=test['Time_of_service'].fillna(13)\n",
    "test['Pay_Scale']=test['Pay_Scale'].fillna(6)\n",
    "test['Work_Life_balance']=test['Work_Life_balance'].fillna(2)\n",
    "test['VAR2']=test['VAR2'].fillna(0.0275)\n",
    "test['VAR4']=test['VAR4'].fillna(2)"
   ]
  },
  {
   "cell_type": "code",
   "execution_count": 38,
   "metadata": {
    "colab": {
     "base_uri": "https://localhost:8080/",
     "height": 849
    },
    "colab_type": "code",
    "id": "DDqSK1i-T-xV",
    "outputId": "3b59da64-6eb4-4046-e08b-39b5265337eb"
   },
   "outputs": [
    {
     "name": "stdout",
     "output_type": "stream",
     "text": [
      "<class 'pandas.core.frame.DataFrame'>\n",
      "RangeIndex: 3000 entries, 0 to 2999\n",
      "Data columns (total 41 columns):\n",
      " #   Column                     Non-Null Count  Dtype  \n",
      "---  ------                     --------------  -----  \n",
      " 0   M                          3000 non-null   uint8  \n",
      " 1   Single                     3000 non-null   uint8  \n",
      " 2   Franklin                   3000 non-null   uint8  \n",
      " 3   Lebanon                    3000 non-null   uint8  \n",
      " 4   Springfield                3000 non-null   uint8  \n",
      " 5   Washington                 3000 non-null   uint8  \n",
      " 6   Human Resource Management  3000 non-null   uint8  \n",
      " 7   IT                         3000 non-null   uint8  \n",
      " 8   Logistics                  3000 non-null   uint8  \n",
      " 9   Marketing                  3000 non-null   uint8  \n",
      " 10  Operarions                 3000 non-null   uint8  \n",
      " 11  Production                 3000 non-null   uint8  \n",
      " 12  Purchasing                 3000 non-null   uint8  \n",
      " 13  Quality                    3000 non-null   uint8  \n",
      " 14  R&D                        3000 non-null   uint8  \n",
      " 15  Sales                      3000 non-null   uint8  \n",
      " 16  Security                   3000 non-null   uint8  \n",
      " 17  Behavioral                 3000 non-null   uint8  \n",
      " 18  Conceptual                 3000 non-null   uint8  \n",
      " 19  Directive                  3000 non-null   uint8  \n",
      " 20  type1                      3000 non-null   uint8  \n",
      " 21  type2                      3000 non-null   uint8  \n",
      " 22  type3                      3000 non-null   uint8  \n",
      " 23  type4                      3000 non-null   uint8  \n",
      " 24  Employee_ID                3000 non-null   object \n",
      " 25  Age                        3000 non-null   float64\n",
      " 26  Education_Level            3000 non-null   int64  \n",
      " 27  Time_of_service            3000 non-null   float64\n",
      " 28  Time_since_promotion       3000 non-null   int64  \n",
      " 29  growth_rate                3000 non-null   int64  \n",
      " 30  Travel_Rate                3000 non-null   int64  \n",
      " 31  Post_Level                 3000 non-null   int64  \n",
      " 32  Pay_Scale                  3000 non-null   float64\n",
      " 33  Work_Life_balance          3000 non-null   float64\n",
      " 34  VAR1                       3000 non-null   int64  \n",
      " 35  VAR2                       3000 non-null   float64\n",
      " 36  VAR3                       3000 non-null   float64\n",
      " 37  VAR4                       3000 non-null   float64\n",
      " 38  VAR5                       3000 non-null   int64  \n",
      " 39  VAR6                       3000 non-null   int64  \n",
      " 40  VAR7                       3000 non-null   int64  \n",
      "dtypes: float64(7), int64(9), object(1), uint8(24)\n",
      "memory usage: 468.9+ KB\n"
     ]
    }
   ],
   "source": [
    "test.info()"
   ]
  },
  {
   "cell_type": "code",
   "execution_count": 39,
   "metadata": {
    "colab": {},
    "colab_type": "code",
    "id": "tTDtO0woUWQ1"
   },
   "outputs": [],
   "source": [
    "Employee_ID=test['Employee_ID']"
   ]
  },
  {
   "cell_type": "code",
   "execution_count": 40,
   "metadata": {
    "colab": {},
    "colab_type": "code",
    "id": "OmhbJ-9nU2ee"
   },
   "outputs": [],
   "source": [
    "test.drop('Employee_ID',axis=1,inplace=True)"
   ]
  },
  {
   "cell_type": "code",
   "execution_count": 41,
   "metadata": {
    "colab": {},
    "colab_type": "code",
    "id": "xJ0EmWQRU6vd"
   },
   "outputs": [],
   "source": [
    "from sklearn.preprocessing import StandardScaler\n",
    "ss=StandardScaler()\n",
    "ss.fit(test)\n",
    "stad_data=ss.transform(test)"
   ]
  },
  {
   "cell_type": "code",
   "execution_count": 42,
   "metadata": {
    "colab": {},
    "colab_type": "code",
    "id": "EmKD6v5LVQbU"
   },
   "outputs": [],
   "source": [
    "x1=pd.DataFrame(stad_data,columns=test.columns)"
   ]
  },
  {
   "cell_type": "code",
   "execution_count": 43,
   "metadata": {
    "colab": {},
    "colab_type": "code",
    "id": "ZWcBEJSkVwwU"
   },
   "outputs": [],
   "source": [
    "y_pred1 = model.predict(x1)"
   ]
  },
  {
   "cell_type": "code",
   "execution_count": 44,
   "metadata": {
    "colab": {
     "base_uri": "https://localhost:8080/",
     "height": 139
    },
    "colab_type": "code",
    "id": "bAje4X7JWcs3",
    "outputId": "902ba518-57e3-4adf-9d72-753d28c8913b"
   },
   "outputs": [
    {
     "data": {
      "text/plain": [
       "array([[0.18854317],\n",
       "       [0.1885432 ],\n",
       "       [0.18854319],\n",
       "       ...,\n",
       "       [0.18854319],\n",
       "       [0.1885432 ],\n",
       "       [0.18854317]], dtype=float32)"
      ]
     },
     "execution_count": 44,
     "metadata": {
      "tags": []
     },
     "output_type": "execute_result"
    }
   ],
   "source": [
    "y_pred1"
   ]
  },
  {
   "cell_type": "code",
   "execution_count": 45,
   "metadata": {
    "colab": {},
    "colab_type": "code",
    "id": "7vedmUe-Wg75"
   },
   "outputs": [],
   "source": [
    "df11=pd.DataFrame(y_pred1,Employee_ID,columns=['Attrition_rate'])"
   ]
  },
  {
   "cell_type": "code",
   "execution_count": 46,
   "metadata": {
    "colab": {
     "base_uri": "https://localhost:8080/",
     "height": 233
    },
    "colab_type": "code",
    "id": "ONJuDfrlWvlx",
    "outputId": "5bee2364-0021-420f-f99a-650a2a76d60b"
   },
   "outputs": [
    {
     "data": {
      "text/html": [
       "<div>\n",
       "<style scoped>\n",
       "    .dataframe tbody tr th:only-of-type {\n",
       "        vertical-align: middle;\n",
       "    }\n",
       "\n",
       "    .dataframe tbody tr th {\n",
       "        vertical-align: top;\n",
       "    }\n",
       "\n",
       "    .dataframe thead th {\n",
       "        text-align: right;\n",
       "    }\n",
       "</style>\n",
       "<table border=\"1\" class=\"dataframe\">\n",
       "  <thead>\n",
       "    <tr style=\"text-align: right;\">\n",
       "      <th></th>\n",
       "      <th>Attrition_rate</th>\n",
       "    </tr>\n",
       "    <tr>\n",
       "      <th>Employee_ID</th>\n",
       "      <th></th>\n",
       "    </tr>\n",
       "  </thead>\n",
       "  <tbody>\n",
       "    <tr>\n",
       "      <th>EID_22713</th>\n",
       "      <td>0.188543</td>\n",
       "    </tr>\n",
       "    <tr>\n",
       "      <th>EID_9658</th>\n",
       "      <td>0.188543</td>\n",
       "    </tr>\n",
       "    <tr>\n",
       "      <th>EID_22203</th>\n",
       "      <td>0.188543</td>\n",
       "    </tr>\n",
       "    <tr>\n",
       "      <th>EID_7652</th>\n",
       "      <td>0.188543</td>\n",
       "    </tr>\n",
       "    <tr>\n",
       "      <th>EID_6516</th>\n",
       "      <td>0.188543</td>\n",
       "    </tr>\n",
       "  </tbody>\n",
       "</table>\n",
       "</div>"
      ],
      "text/plain": [
       "             Attrition_rate\n",
       "Employee_ID                \n",
       "EID_22713          0.188543\n",
       "EID_9658           0.188543\n",
       "EID_22203          0.188543\n",
       "EID_7652           0.188543\n",
       "EID_6516           0.188543"
      ]
     },
     "execution_count": 46,
     "metadata": {
      "tags": []
     },
     "output_type": "execute_result"
    }
   ],
   "source": [
    "df11.head()"
   ]
  },
  {
   "cell_type": "code",
   "execution_count": 47,
   "metadata": {
    "colab": {},
    "colab_type": "code",
    "id": "13gyDc7ZWyG0"
   },
   "outputs": [],
   "source": [
    "df11.to_csv('final_submission7.csv')"
   ]
  },
  {
   "cell_type": "code",
   "execution_count": 47,
   "metadata": {
    "colab": {},
    "colab_type": "code",
    "id": "4pd7j5F8W3xi"
   },
   "outputs": [],
   "source": []
  }
 ],
 "metadata": {
  "colab": {
   "collapsed_sections": [],
   "name": "HE_6.ipynb",
   "provenance": []
  },
  "kernelspec": {
   "display_name": "Python 3",
   "language": "python",
   "name": "python3"
  },
  "language_info": {
   "codemirror_mode": {
    "name": "ipython",
    "version": 3
   },
   "file_extension": ".py",
   "mimetype": "text/x-python",
   "name": "python",
   "nbconvert_exporter": "python",
   "pygments_lexer": "ipython3",
   "version": "3.8.3"
  }
 },
 "nbformat": 4,
 "nbformat_minor": 1
}
